{
 "cells": [
  {
   "cell_type": "code",
   "execution_count": 1,
   "id": "b2dc8155-ec43-4d55-a2dc-3ad385622447",
   "metadata": {},
   "outputs": [
    {
     "name": "stdout",
     "output_type": "stream",
     "text": [
      "      CRIM    ZN  INDUS  CHAS    NOX     RM   AGE     DIS  RAD    TAX  \\\n",
      "0  0.00632  18.0   2.31     0  0.538  6.575  65.2  4.0900    1  296.0   \n",
      "1  0.02731   0.0   7.07     0  0.469  6.421  78.9  4.9671    2  242.0   \n",
      "2  0.02729   0.0   7.07     0  0.469  7.185  61.1  4.9671    2  242.0   \n",
      "3  0.03237   0.0   2.18     0  0.458  6.998  45.8  6.0622    3  222.0   \n",
      "4  0.06905   0.0   2.18     0  0.458  7.147  54.2  6.0622    3  222.0   \n",
      "\n",
      "   PTRATIO       B  LSTAT  MEDV  \n",
      "0     15.3  396.90   4.98  24.0  \n",
      "1     17.8  396.90   9.14  21.6  \n",
      "2     17.8  392.83   4.03  34.7  \n",
      "3     18.7  394.63   2.94  33.4  \n",
      "4     18.7  396.90   5.33  36.2  \n"
     ]
    }
   ],
   "source": [
    "import numpy as np\n",
    "import pandas as pd\n",
    "from sklearn.model_selection import train_test_split\n",
    "from sklearn.preprocessing import StandardScaler\n",
    "\n",
    "df = pd.read_csv(\"boston.csv\")\n",
    "print(df.head())"
   ]
  },
  {
   "cell_type": "code",
   "execution_count": 2,
   "id": "6c0d0866-ea7b-4bfc-93b2-a8d69091b949",
   "metadata": {},
   "outputs": [],
   "source": [
    "X = df.drop(columns=[\"MEDV\"]).values\n",
    "y = df[\"MEDV\"].values.reshape(-1, 1) \n",
    "scaler = StandardScaler()\n",
    "X = scaler.fit_transform(X)\n",
    "\n",
    "X_train, X_test, y_train, y_test = train_test_split(X, y, test_size=0.2, random_state=42)"
   ]
  },
  {
   "cell_type": "code",
   "execution_count": 3,
   "id": "3eb5532e-d17a-4805-969a-11264d4e331e",
   "metadata": {},
   "outputs": [],
   "source": [
    "class LinearRegressionScratch:\n",
    "    def __init__(self, learning_rate=0.01, epochs=1000):\n",
    "        self.learning_rate = learning_rate\n",
    "        self.epochs = epochs\n",
    "        self.weights = None\n",
    "        self.bias = None\n",
    "\n",
    "    def initialize_parameters(self, n_features):\n",
    "        self.weights = np.zeros((n_features, 1))\n",
    "        self.bias = 0\n",
    "\n",
    "    def predict(self, X):\n",
    "        return np.dot(X, self.weights) + self.bias\n",
    "\n",
    "    def compute_loss(self, y_true, y_pred):\n",
    "        return np.mean((y_true - y_pred) ** 2) \n",
    "\n",
    "    def train(self, X, y):\n",
    "        m, n_features = X.shape\n",
    "        self.initialize_parameters(n_features)\n",
    "\n",
    "        for epoch in range(self.epochs):\n",
    "            y_pred = self.predict(X)\n",
    "            loss = self.compute_loss(y, y_pred)\n",
    "            dw = (-2/m) * np.dot(X.T, (y - y_pred))\n",
    "            db = (-2/m) * np.sum(y - y_pred)\n",
    "            self.weights -= self.learning_rate * dw\n",
    "            self.bias -= self.learning_rate * db\n",
    "            if epoch % 100 == 0:\n",
    "                print(f\"Epoch {epoch}, Loss: {loss:.4f}\")\n",
    "\n",
    "    def evaluate(self, X, y):\n",
    "        y_pred = self.predict(X)\n",
    "        mse = self.compute_loss(y, y_pred)\n",
    "        rmse = np.sqrt(mse)\n",
    "        mae = np.mean(np.abs(y - y_pred))\n",
    "        return {\"MSE\": mse, \"RMSE\": rmse, \"MAE\": mae}\n",
    "\n",
    "    def predict_single(self, input_features):\n",
    "        input_features = np.array(input_features).reshape(1, -1)\n",
    "        input_features = scaler.transform(input_features)  \n",
    "        return self.predict(input_features)[0, 0]"
   ]
  },
  {
   "cell_type": "code",
   "execution_count": 4,
   "id": "6840aa68-e0c8-4d70-ac85-f46fb3691617",
   "metadata": {},
   "outputs": [
    {
     "name": "stdout",
     "output_type": "stream",
     "text": [
      "Epoch 0, Loss: 606.5554\n",
      "Epoch 100, Loss: 32.3744\n",
      "Epoch 200, Loss: 22.7718\n",
      "Epoch 300, Loss: 22.2111\n",
      "Epoch 400, Loss: 21.9988\n",
      "Epoch 500, Loss: 21.8795\n",
      "Epoch 600, Loss: 21.8072\n",
      "Epoch 700, Loss: 21.7609\n",
      "Epoch 800, Loss: 21.7298\n",
      "Epoch 900, Loss: 21.7080\n",
      "Model Performance: {'MSE': 24.710996767050904, 'RMSE': 4.971015667552347, 'MAE': 3.2094516410676195}\n"
     ]
    }
   ],
   "source": [
    "model = LinearRegressionScratch(learning_rate=0.01, epochs=1000)\n",
    "model.train(X_train, y_train)\n",
    "metrics = model.evaluate(X_test, y_test)\n",
    "print(\"Model Performance:\", metrics)"
   ]
  },
  {
   "cell_type": "code",
   "execution_count": 9,
   "id": "43935172-7b02-4437-bd91-40d1c95eb2d9",
   "metadata": {},
   "outputs": [
    {
     "name": "stdout",
     "output_type": "stream",
     "text": [
      "26.80683883482739\n"
     ]
    }
   ],
   "source": [
    "sample = X_test[23] \n",
    "prediction = model.predict_single(sample)\n",
    "print(prediction)"
   ]
  },
  {
   "cell_type": "code",
   "execution_count": 8,
   "id": "c9011fab-d900-473c-981f-b2f8ffa8c85f",
   "metadata": {},
   "outputs": [
    {
     "name": "stdout",
     "output_type": "stream",
     "text": [
      "R² Score: 0.6630\n"
     ]
    }
   ],
   "source": [
    "def r2_score(y_actual, y_pred):\n",
    "    ss_res = np.sum((y_actual - y_pred) ** 2)\n",
    "    ss_tot = np.sum((y_actual - np.mean(y_actual)) ** 2) \n",
    "    return 1 - (ss_res / ss_tot)\n",
    "y_pred_test = model.predict(X_test) \n",
    "r2 = r2_score(y_test, y_pred_test)\n",
    "print(f\"R² Score: {r2:.4f}\")"
   ]
  }
 ],
 "metadata": {
  "kernelspec": {
   "display_name": "Python 3 (ipykernel)",
   "language": "python",
   "name": "python3"
  },
  "language_info": {
   "codemirror_mode": {
    "name": "ipython",
    "version": 3
   },
   "file_extension": ".py",
   "mimetype": "text/x-python",
   "name": "python",
   "nbconvert_exporter": "python",
   "pygments_lexer": "ipython3",
   "version": "3.12.5"
  }
 },
 "nbformat": 4,
 "nbformat_minor": 5
}
