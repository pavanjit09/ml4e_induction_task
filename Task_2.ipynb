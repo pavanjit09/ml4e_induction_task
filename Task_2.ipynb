{
 "cells": [
  {
   "cell_type": "code",
   "execution_count": 5,
   "id": "3487614c-d33d-42e7-b6b3-4dbc999ad711",
   "metadata": {},
   "outputs": [],
   "source": [
    "import numpy as np\n",
    "import matplotlib.pyplot as plt\n",
    "import pathlib\n",
    "from PIL import Image\n",
    "import os"
   ]
  },
  {
   "cell_type": "code",
   "execution_count": 6,
   "id": "2b9f0190-1b15-4f10-ac19-fadb2337094f",
   "metadata": {},
   "outputs": [],
   "source": [
    "def load_data(data_dir):\n",
    "    images, labels = [], []\n",
    "    \n",
    "    for class_label in os.listdir(data_dir):\n",
    "        class_path = os.path.join(data_dir, class_label)\n",
    "\n",
    "        if not os.path.isdir(class_path):\n",
    "            continue  \n",
    "        \n",
    "        for img_name in os.listdir(class_path):\n",
    "            img_path = os.path.join(class_path, img_name)\n",
    "\n",
    "            if img_name.startswith(\".\"):\n",
    "                continue  \n",
    "\n",
    "            try:\n",
    "                img = Image.open(img_path).convert(\"L\").resize((28, 28))  \n",
    "                img_array = np.array(img).astype(np.float32) / 255.0  \n",
    "                images.append(img_array.flatten())  \n",
    "                labels.append(int(class_label))  \n",
    "            except Exception as e:\n",
    "                print(f\"Skipping file: {img_name}, Error: {e}\")\n",
    "\n",
    "    return np.array(images), np.array(labels)\n",
    "\n",
    "train_images, train_labels = load_data(\"fashion/train\")\n",
    "test_images, test_labels = load_data(\"fashion/test\")"
   ]
  },
  {
   "cell_type": "code",
   "execution_count": 7,
   "id": "14192602-12f5-4372-87e1-68494bacbb2d",
   "metadata": {},
   "outputs": [],
   "source": [
    "def relu(x):\n",
    "    return np.maximum(0, x)\n",
    "\n",
    "def relu_derivative(x):\n",
    "    return (x > 0).astype(float)\n",
    "\n",
    "def softmax(x):\n",
    "    exp_x = np.exp(x - np.max(x, axis=1, keepdims=True))  \n",
    "    return exp_x / np.sum(exp_x, axis=1, keepdims=True)"
   ]
  },
  {
   "cell_type": "code",
   "execution_count": 8,
   "id": "4fc42f59-6608-41fb-a6b0-3409127ba2f1",
   "metadata": {},
   "outputs": [],
   "source": [
    "class ANN:\n",
    "    def __init__(self, input_size, hidden_size1, hidden_size2, output_size, learning_rate=0.01):\n",
    "        self.lr = learning_rate\n",
    "        np.random.seed(42)  \n",
    "\n",
    "        self.W1 = np.random.randn(input_size, hidden_size1) * 0.01\n",
    "        self.b1 = np.zeros((1, hidden_size1))\n",
    "\n",
    "        self.W2 = np.random.randn(hidden_size1, hidden_size2) * 0.01\n",
    "        self.b2 = np.zeros((1, hidden_size2))\n",
    "\n",
    "        self.W3 = np.random.randn(hidden_size2, output_size) * 0.01\n",
    "        self.b3 = np.zeros((1, output_size))\n",
    "\n",
    "    def forward(self, X):\n",
    "        self.Z1 = X @ self.W1 + self.b1\n",
    "        self.A1 = relu(self.Z1)\n",
    "\n",
    "        self.Z2 = self.A1 @ self.W2 + self.b2\n",
    "        self.A2 = relu(self.Z2)\n",
    "\n",
    "        self.Z3 = self.A2 @ self.W3 + self.b3\n",
    "        self.A3 = softmax(self.Z3)\n",
    "\n",
    "        return self.A3\n",
    "\n",
    "    def compute_loss(self, Y_pred, Y_true):\n",
    "        m = Y_true.shape[0]\n",
    "        log_probs = -np.log(Y_pred[range(m), Y_true])\n",
    "        return np.mean(log_probs)\n",
    "\n",
    "    def backward(self, X, Y_true):\n",
    "        m = X.shape[0]\n",
    "\n",
    "        Y_one_hot = np.zeros_like(self.A3)\n",
    "        Y_one_hot[np.arange(m), Y_true] = 1\n",
    "\n",
    "        dZ3 = self.A3 - Y_one_hot\n",
    "        dW3 = (self.A2.T @ dZ3) / m\n",
    "        db3 = np.sum(dZ3, axis=0, keepdims=True) / m\n",
    "\n",
    "        dA2 = dZ3 @ self.W3.T\n",
    "        dZ2 = dA2 * relu_derivative(self.Z2)\n",
    "        dW2 = (self.A1.T @ dZ2) / m\n",
    "        db2 = np.sum(dZ2, axis=0, keepdims=True) / m\n",
    "\n",
    "        dA1 = dZ2 @ self.W2.T\n",
    "        dZ1 = dA1 * relu_derivative(self.Z1)\n",
    "        dW1 = (X.T @ dZ1) / m\n",
    "        db1 = np.sum(dZ1, axis=0, keepdims=True) / m\n",
    "\n",
    "        self.W3 -= self.lr * dW3\n",
    "        self.b3 -= self.lr * db3\n",
    "        self.W2 -= self.lr * dW2\n",
    "        self.b2 -= self.lr * db2\n",
    "        self.W1 -= self.lr * dW1\n",
    "        self.b1 -= self.lr * db1\n",
    "\n",
    "    def train(self, X_train, Y_train, epochs=10, batch_size=32):\n",
    "        for epoch in range(epochs):\n",
    "            shuffle_idx = np.random.permutation(len(X_train))\n",
    "            X_train, Y_train = X_train[shuffle_idx], Y_train[shuffle_idx]\n",
    "\n",
    "            for i in range(0, len(X_train), batch_size):\n",
    "                X_batch = X_train[i:i+batch_size]\n",
    "                Y_batch = Y_train[i:i+batch_size]\n",
    "\n",
    "                Y_pred = self.forward(X_batch)\n",
    "                self.backward(X_batch, Y_batch)\n",
    "\n",
    "            train_loss = self.compute_loss(self.forward(X_train), Y_train)\n",
    "            train_acc = self.evaluate(X_train, Y_train)\n",
    "            print(f\"Epoch {epoch+1}: Loss = {train_loss:.4f}, Accuracy = {train_acc:.2f}%\")\n",
    "\n",
    "    def evaluate(self, X, Y):\n",
    "        predictions = np.argmax(self.forward(X), axis=1)\n",
    "        return np.mean(predictions == Y) * 100\n",
    "\n",
    "    def predict(self, image):\n",
    "        output = self.forward(image.reshape(1, -1))\n",
    "        return np.argmax(output)"
   ]
  },
  {
   "cell_type": "code",
   "execution_count": 9,
   "id": "cc3dc502-fe49-45ec-bb95-247d10fd749c",
   "metadata": {},
   "outputs": [
    {
     "name": "stdout",
     "output_type": "stream",
     "text": [
      "Epoch 1: Loss = 1.5187, Accuracy = 36.03%\n",
      "Epoch 2: Loss = 0.8754, Accuracy = 67.50%\n",
      "Epoch 3: Loss = 0.7560, Accuracy = 73.34%\n",
      "Epoch 4: Loss = 0.6877, Accuracy = 73.99%\n",
      "Epoch 5: Loss = 0.5861, Accuracy = 79.40%\n",
      "Epoch 6: Loss = 0.5588, Accuracy = 80.57%\n",
      "Epoch 7: Loss = 0.5133, Accuracy = 82.31%\n",
      "Epoch 8: Loss = 0.4804, Accuracy = 83.41%\n",
      "Epoch 9: Loss = 0.4690, Accuracy = 83.57%\n",
      "Epoch 10: Loss = 0.4450, Accuracy = 84.50%\n"
     ]
    }
   ],
   "source": [
    "model = ANN(input_size=28*28, hidden_size1=128, hidden_size2=64, output_size=10, learning_rate=0.01)\n",
    "model.train(train_images, train_labels, epochs=10, batch_size=32)"
   ]
  },
  {
   "cell_type": "code",
   "execution_count": 10,
   "id": "e98eba16-9e5d-4e68-9f09-982d2c80daec",
   "metadata": {},
   "outputs": [
    {
     "name": "stdout",
     "output_type": "stream",
     "text": [
      "Test Accuracy: 83.06%\n"
     ]
    }
   ],
   "source": [
    "test_accuracy = model.evaluate(test_images, test_labels)\n",
    "print(f\"Test Accuracy: {test_accuracy:.2f}%\")"
   ]
  },
  {
   "cell_type": "code",
   "execution_count": 11,
   "id": "e46be98f-82f4-437d-8f7c-bd6d2e8294c5",
   "metadata": {},
   "outputs": [],
   "source": [
    "def predict_image(image_path):\n",
    "    img = Image.open(image_path).convert(\"L\").resize((28, 28))\n",
    "    img_array = np.array(img).astype(np.float32) / 255.0\n",
    "    predicted_class = model.predict(img_array.flatten())\n",
    "    return predicted_class"
   ]
  },
  {
   "cell_type": "code",
   "execution_count": 12,
   "id": "8bfdc26c-4104-4a08-ac22-6d74cee08315",
   "metadata": {},
   "outputs": [
    {
     "data": {
      "image/png": "[encoded data removed]",
      "text/plain": [
       "<Figure size 640x480 with 1 Axes>"
      ]
     },
     "metadata": {},
     "output_type": "display_data"
    }
   ],
   "source": [
    "sample_image_path = \"fashion/test/5/1037.png\"\n",
    "predicted_class = predict_image(sample_image_path)\n",
    "plt.imshow(Image.open(sample_image_path).convert(\"L\"), cmap='gray')\n",
    "plt.title(f\"Predicted Class: {predicted_class}\")\n",
    "plt.axis('off')\n",
    "plt.show()"
   ]
  },
  {
   "cell_type": "code",
   "execution_count": 13,
   "id": "5b745e00-c1c2-46bf-aa06-2280a6ff15fa",
   "metadata": {},
   "outputs": [
    {
     "data": {
      "image/png": "[encoded data removed]",
      "text/plain": [
       "<Figure size 640x480 with 1 Axes>"
      ]
     },
     "metadata": {},
     "output_type": "display_data"
    }
   ],
   "source": [
    "sample_image_path = \"fashion/test/8/1961.png\"\n",
    "predicted_class = predict_image(sample_image_path)\n",
    "plt.imshow(Image.open(sample_image_path).convert(\"L\"), cmap='gray')\n",
    "plt.title(f\"Predicted Class: {predicted_class}\")\n",
    "plt.axis('off')\n",
    "plt.show()"
   ]
  }
 ],
 "metadata": {
  "kernelspec": {
   "display_name": "Python 3 (ipykernel)",
   "language": "python",
   "name": "python3"
  },
  "language_info": {
   "codemirror_mode": {
    "name": "ipython",
    "version": 3
   },
   "file_extension": ".py",
   "mimetype": "text/x-python",
   "name": "python",
   "nbconvert_exporter": "python",
   "pygments_lexer": "ipython3",
   "version": "3.12.5"
  }
 },
 "nbformat": 4,
 "nbformat_minor": 5
}
