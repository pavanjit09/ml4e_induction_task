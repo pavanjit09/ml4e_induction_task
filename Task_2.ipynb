{
 "cells": [
  {
   "cell_type": "code",
   "execution_count": 1,
   "id": "2126d184-103f-4651-b597-933124673c75",
   "metadata": {},
   "outputs": [],
   "source": [
    "import tensorflow as tf\n",
    "from tensorflow import keras\n",
    "from tensorflow.keras import layers\n",
    "import numpy as np\n",
    "import matplotlib.pyplot as plt\n",
    "import pathlib"
   ]
  },
  {
   "cell_type": "code",
   "execution_count": 2,
   "id": "90be37d3-e741-403a-98bb-3b4810648171",
   "metadata": {},
   "outputs": [
    {
     "name": "stdout",
     "output_type": "stream",
     "text": [
      "Found 60000 files belonging to 10 classes.\n",
      "Found 10000 files belonging to 10 classes.\n"
     ]
    }
   ],
   "source": [
    "data_dir = pathlib.Path(\"fashion\")\n",
    "train_ds = keras.preprocessing.image_dataset_from_directory(\n",
    "    data_dir / \"train\",\n",
    "    image_size=(28, 28),\n",
    "    color_mode=\"grayscale\",\n",
    "    batch_size=32,\n",
    "    label_mode=\"int\")\n",
    "\n",
    "test_ds = keras.preprocessing.image_dataset_from_directory(\n",
    "    data_dir / \"test\",\n",
    "    image_size=(28, 28),\n",
    "    color_mode=\"grayscale\",\n",
    "    batch_size=32,\n",
    "    label_mode=\"int\")"
   ]
  },
  {
   "cell_type": "code",
   "execution_count": 3,
   "id": "17a1f576-51d0-40ac-96ae-8ffdc150048b",
   "metadata": {},
   "outputs": [],
   "source": [
    "normalization_layer = layers.Rescaling(1./255)\n",
    "train_ds = train_ds.map(lambda x, y: (normalization_layer(x), y))\n",
    "test_ds = test_ds.map(lambda x, y: (normalization_layer(x), y))"
   ]
  },
  {
   "cell_type": "code",
   "execution_count": 6,
   "id": "589014f1-e1d1-4fab-ac74-5c424b71c106",
   "metadata": {},
   "outputs": [],
   "source": [
    "model = keras.Sequential([\n",
    "    layers.Flatten(input_shape=(28, 28, 1)), \n",
    "    layers.Dense(128, activation='relu'),  \n",
    "    layers.Dense(64, activation='relu'),   \n",
    "    layers.Dense(10, activation='softmax') \n",
    "])\n",
    "\n",
    "model.compile(optimizer='adam',\n",
    "              loss='sparse_categorical_crossentropy',\n",
    "              metrics=['accuracy'])"
   ]
  },
  {
   "cell_type": "code",
   "execution_count": 7,
   "id": "12cba4ef-51f6-4f34-9d21-81e8e388459a",
   "metadata": {},
   "outputs": [
    {
     "name": "stdout",
     "output_type": "stream",
     "text": [
      "Epoch 1/10\n",
      "\u001b[1m1875/1875\u001b[0m \u001b[32m━━━━━━━━━━━━━━━━━━━━\u001b[0m\u001b[37m\u001b[0m \u001b[1m577s\u001b[0m 305ms/step - accuracy: 0.7762 - loss: 0.6395 - val_accuracy: 0.8455 - val_loss: 0.4271\n",
      "Epoch 2/10\n",
      "\u001b[1m1875/1875\u001b[0m \u001b[32m━━━━━━━━━━━━━━━━━━━━\u001b[0m\u001b[37m\u001b[0m \u001b[1m184s\u001b[0m 98ms/step - accuracy: 0.8599 - loss: 0.3864 - val_accuracy: 0.8613 - val_loss: 0.3838\n",
      "Epoch 3/10\n",
      "\u001b[1m1875/1875\u001b[0m \u001b[32m━━━━━━━━━━━━━━━━━━━━\u001b[0m\u001b[37m\u001b[0m \u001b[1m204s\u001b[0m 109ms/step - accuracy: 0.8764 - loss: 0.3383 - val_accuracy: 0.8638 - val_loss: 0.3693\n",
      "Epoch 4/10\n",
      "\u001b[1m1875/1875\u001b[0m \u001b[32m━━━━━━━━━━━━━━━━━━━━\u001b[0m\u001b[37m\u001b[0m \u001b[1m209s\u001b[0m 111ms/step - accuracy: 0.8840 - loss: 0.3142 - val_accuracy: 0.8575 - val_loss: 0.3880\n",
      "Epoch 5/10\n",
      "\u001b[1m1875/1875\u001b[0m \u001b[32m━━━━━━━━━━━━━━━━━━━━\u001b[0m\u001b[37m\u001b[0m \u001b[1m228s\u001b[0m 122ms/step - accuracy: 0.8897 - loss: 0.2974 - val_accuracy: 0.8616 - val_loss: 0.3708\n",
      "Epoch 6/10\n",
      "\u001b[1m1875/1875\u001b[0m \u001b[32m━━━━━━━━━━━━━━━━━━━━\u001b[0m\u001b[37m\u001b[0m \u001b[1m270s\u001b[0m 144ms/step - accuracy: 0.8968 - loss: 0.2774 - val_accuracy: 0.8490 - val_loss: 0.4174\n",
      "Epoch 7/10\n",
      "\u001b[1m1875/1875\u001b[0m \u001b[32m━━━━━━━━━━━━━━━━━━━━\u001b[0m\u001b[37m\u001b[0m \u001b[1m281s\u001b[0m 150ms/step - accuracy: 0.8991 - loss: 0.2675 - val_accuracy: 0.8633 - val_loss: 0.3763\n",
      "Epoch 8/10\n",
      "\u001b[1m1875/1875\u001b[0m \u001b[32m━━━━━━━━━━━━━━━━━━━━\u001b[0m\u001b[37m\u001b[0m \u001b[1m234s\u001b[0m 124ms/step - accuracy: 0.9025 - loss: 0.2583 - val_accuracy: 0.8677 - val_loss: 0.3812\n",
      "Epoch 9/10\n",
      "\u001b[1m1875/1875\u001b[0m \u001b[32m━━━━━━━━━━━━━━━━━━━━\u001b[0m\u001b[37m\u001b[0m \u001b[1m231s\u001b[0m 123ms/step - accuracy: 0.9092 - loss: 0.2457 - val_accuracy: 0.8615 - val_loss: 0.3892\n",
      "Epoch 10/10\n",
      "\u001b[1m1875/1875\u001b[0m \u001b[32m━━━━━━━━━━━━━━━━━━━━\u001b[0m\u001b[37m\u001b[0m \u001b[1m223s\u001b[0m 119ms/step - accuracy: 0.9116 - loss: 0.2331 - val_accuracy: 0.8726 - val_loss: 0.3638\n",
      "\u001b[1m313/313\u001b[0m \u001b[32m━━━━━━━━━━━━━━━━━━━━\u001b[0m\u001b[37m\u001b[0m \u001b[1m7s\u001b[0m 23ms/step - accuracy: 0.8639 - loss: 0.3721\n",
      "Test Accuracy: 87.26%\n"
     ]
    }
   ],
   "source": [
    "history = model.fit(train_ds, epochs=10, validation_data=test_ds)\n",
    "test_loss, test_acc = model.evaluate(test_ds)\n",
    "print(f\"Test Accuracy: {test_acc * 100:.2f}%\")"
   ]
  },
  {
   "cell_type": "code",
   "execution_count": 8,
   "id": "0eecbc8a-61e1-4412-a35b-e45b28728e12",
   "metadata": {},
   "outputs": [],
   "source": [
    "def predict_image(image_path):\n",
    "    img = keras.preprocessing.image.load_img(image_path, target_size=(28, 28), color_mode=\"grayscale\")\n",
    "    img_array = keras.preprocessing.image.img_to_array(img) / 255.0 \n",
    "    img_array = np.expand_dims(img_array, axis=0) \n",
    "    prediction = model.predict(img_array)\n",
    "    return np.argmax(prediction)"
   ]
  },
  {
   "cell_type": "code",
   "execution_count": 9,
   "id": "afbc4896-5c62-4ecb-a675-3930a3a5bd3c",
   "metadata": {},
   "outputs": [
    {
     "name": "stdout",
     "output_type": "stream",
     "text": [
      "\u001b[1m1/1\u001b[0m \u001b[32m━━━━━━━━━━━━━━━━━━━━\u001b[0m\u001b[37m\u001b[0m \u001b[1m1s\u001b[0m 544ms/step\n"
     ]
    },
    {
     "data": {
      "image/png": "[encoded data removed]",
      "text/plain": [
       "<Figure size 640x480 with 1 Axes>"
      ]
     },
     "metadata": {},
     "output_type": "display_data"
    }
   ],
   "source": [
    "sample_image_path = \"fashion/test/5/1037.png\" \n",
    "predicted_class = predict_image(sample_image_path)\n",
    "\n",
    "plt.imshow(keras.preprocessing.image.load_img(sample_image_path, color_mode=\"grayscale\"), cmap='gray')\n",
    "plt.title(f\"Predicted Class: {predicted_class}\")\n",
    "plt.axis('off')\n",
    "plt.show()"
   ]
  },
  {
   "cell_type": "code",
   "execution_count": 10,
   "id": "e74c7d47-05b1-4840-a9a4-b5d9851b76dc",
   "metadata": {},
   "outputs": [
    {
     "name": "stdout",
     "output_type": "stream",
     "text": [
      "\u001b[1m1/1\u001b[0m \u001b[32m━━━━━━━━━━━━━━━━━━━━\u001b[0m\u001b[37m\u001b[0m \u001b[1m0s\u001b[0m 377ms/step\n"
     ]
    },
    {
     "data": {
      "image/png": "[encoded data removed]",
      "text/plain": [
       "<Figure size 640x480 with 1 Axes>"
      ]
     },
     "metadata": {},
     "output_type": "display_data"
    }
   ],
   "source": [
    "sample_image_path = \"fashion/test/8/1094.png\" \n",
    "predicted_class = predict_image(sample_image_path)\n",
    "\n",
    "plt.imshow(keras.preprocessing.image.load_img(sample_image_path, color_mode=\"grayscale\"), cmap='gray')\n",
    "plt.title(f\"Predicted Class: {predicted_class}\")\n",
    "plt.axis('off')\n",
    "plt.show()"
   ]
  }
 ],
 "metadata": {
  "kernelspec": {
   "display_name": "Python 3 (ipykernel)",
   "language": "python",
   "name": "python3"
  },
  "language_info": {
   "codemirror_mode": {
    "name": "ipython",
    "version": 3
   },
   "file_extension": ".py",
   "mimetype": "text/x-python",
   "name": "python",
   "nbconvert_exporter": "python",
   "pygments_lexer": "ipython3",
   "version": "3.12.5"
  }
 },
 "nbformat": 4,
 "nbformat_minor": 5
}
